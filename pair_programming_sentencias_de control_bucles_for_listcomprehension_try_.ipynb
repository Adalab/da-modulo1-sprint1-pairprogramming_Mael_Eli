{
 "cells": [
  {
   "cell_type": "markdown",
   "metadata": {},
   "source": [
    "BUCLE FOR"
   ]
  },
  {
   "cell_type": "markdown",
   "metadata": {},
   "source": [
    "Ej1\n",
    "Imprimir los números del 1 al 5 utilizando un bucle for\n",
    "Descripción: Utiliza un bucle for para imprimir los números del 1 al 50 (incluido) en orden ascendente."
   ]
  },
  {
   "cell_type": "code",
   "execution_count": 7,
   "metadata": {},
   "outputs": [
    {
     "name": "stdout",
     "output_type": "stream",
     "text": [
      "1\n",
      "2\n",
      "3\n",
      "4\n",
      "5\n",
      "------------\n",
      "\n",
      "1\n",
      "2\n",
      "3\n",
      "4\n",
      "5\n",
      "6\n",
      "7\n",
      "8\n",
      "9\n",
      "10\n",
      "11\n",
      "12\n",
      "13\n",
      "14\n",
      "15\n",
      "16\n",
      "17\n",
      "18\n",
      "19\n",
      "20\n",
      "21\n",
      "22\n",
      "23\n",
      "24\n",
      "25\n",
      "26\n",
      "27\n",
      "28\n",
      "29\n",
      "30\n",
      "31\n",
      "32\n",
      "33\n",
      "34\n",
      "35\n",
      "36\n",
      "37\n",
      "38\n",
      "39\n",
      "40\n",
      "41\n",
      "42\n",
      "43\n",
      "44\n",
      "45\n",
      "46\n",
      "47\n",
      "48\n",
      "49\n",
      "50\n"
     ]
    }
   ],
   "source": [
    "for num in range(1,6):\n",
    "    print(num)\n",
    "print(\"------------\\n\")\n",
    "\n",
    "for num1 in range(1,51):# ponemos hasta el 51 porque éste se excluye\n",
    "    print(num1)"
   ]
  },
  {
   "cell_type": "markdown",
   "metadata": {},
   "source": [
    "Ej2\n",
    "Calcular la suma de los primeros 10 números naturales utilizando un bucle for\n",
    "Descripción: Utiliza un bucle for para calcular la suma de los primeros 10 números naturales (1 + 2 + 3 + ... + 10)."
   ]
  },
  {
   "cell_type": "code",
   "execution_count": 24,
   "metadata": {},
   "outputs": [
    {
     "name": "stdout",
     "output_type": "stream",
     "text": [
      "la suma de los primeros 10 num naturales es: 55\n"
     ]
    }
   ],
   "source": [
    "suma_num= 0\n",
    "for num3 in range(1,11):\n",
    "    suma_num += num3\n",
    "print(\"la suma de los primeros 10 num naturales es:\",suma_num)"
   ]
  },
  {
   "cell_type": "markdown",
   "metadata": {},
   "source": [
    "Ej3\n",
    "Calcular el producto de los elementos de una lista\n",
    "Descripción: Dada una lista de números, utiliza un bucle for para calcular el producto de todos los elementos."
   ]
  },
  {
   "cell_type": "code",
   "execution_count": 31,
   "metadata": {},
   "outputs": [
    {
     "name": "stdout",
     "output_type": "stream",
     "text": [
      "3528000\n"
     ]
    }
   ],
   "source": [
    "lista_num=[3,7,8,15,25,56]\n",
    "multiplicacion=1\n",
    "for num4 in lista_num:\n",
    "    multiplicacion *=num4\n",
    "\n",
    "print(multiplicacion)"
   ]
  },
  {
   "cell_type": "markdown",
   "metadata": {},
   "source": [
    "Ej4\n",
    "Imprimir los caracteres de una cadena de texto\n",
    "Descripción: Dada una cadena de texto, utiliza un bucle for para imprimir cada carácter en una línea separada."
   ]
  },
  {
   "cell_type": "code",
   "execution_count": 32,
   "metadata": {},
   "outputs": [
    {
     "name": "stdout",
     "output_type": "stream",
     "text": [
      "H\n",
      "o\n",
      "y\n",
      " \n",
      "e\n",
      "s\n",
      " \n",
      "u\n",
      "n\n",
      " \n",
      "d\n",
      "í\n",
      "a\n",
      " \n",
      "d\n",
      "e\n",
      " \n",
      "p\n",
      "e\n",
      "r\n",
      "r\n",
      "o\n",
      "s\n"
     ]
    }
   ],
   "source": [
    "texto=\"Hoy es un día de perros\"\n",
    "for i in texto:\n",
    "    print(i)"
   ]
  },
  {
   "cell_type": "markdown",
   "metadata": {},
   "source": [
    "Ej5\n",
    "Imprimir los números pares del 1 al 100 utilizando un bucle for\n",
    "Descripción: Utiliza un bucle for para imprimir los números pares del 1 al 100 en orden ascendente."
   ]
  },
  {
   "cell_type": "code",
   "execution_count": 50,
   "metadata": {},
   "outputs": [
    {
     "name": "stdout",
     "output_type": "stream",
     "text": [
      "2\n",
      "4\n",
      "6\n",
      "8\n",
      "10\n",
      "12\n",
      "14\n",
      "16\n",
      "18\n",
      "20\n",
      "22\n",
      "24\n",
      "26\n",
      "28\n",
      "30\n",
      "32\n",
      "34\n",
      "36\n",
      "38\n",
      "40\n",
      "42\n",
      "44\n",
      "46\n",
      "48\n",
      "50\n",
      "52\n",
      "54\n",
      "56\n",
      "58\n",
      "60\n",
      "62\n",
      "64\n",
      "66\n",
      "68\n",
      "70\n",
      "72\n",
      "74\n",
      "76\n",
      "78\n",
      "80\n",
      "82\n",
      "84\n",
      "86\n",
      "88\n",
      "90\n",
      "92\n",
      "94\n",
      "96\n",
      "98\n",
      "100\n"
     ]
    }
   ],
   "source": [
    "for i in range(1,101):\n",
    "    if i%2 == 0:\n",
    "        print(i)\n",
    "# se podría haber hecho como alternativa , \n",
    "# for i in range(2,101,2):\n",
    "    #print(i)"
   ]
  },
  {
   "cell_type": "markdown",
   "metadata": {},
   "source": [
    "Ej6\n",
    "Imprimir los números primos del 1 al 50 utilizando un bucle for\n",
    "Descripción: Utiliza un bucle for para imprimir los números primos del 1 al 50 en orden ascendente.\n",
    "NOTA: Según la Wikipedia, un número primo es un número natural mayor que 1 que no tiene divisores positivos más que 1 y él mismo."
   ]
  },
  {
   "cell_type": "code",
   "execution_count": 60,
   "metadata": {},
   "outputs": [
    {
     "name": "stdout",
     "output_type": "stream",
     "text": [
      "2\n",
      "3\n",
      "5\n",
      "7\n",
      "11\n",
      "13\n",
      "17\n",
      "19\n",
      "23\n",
      "29\n",
      "31\n",
      "37\n",
      "41\n",
      "43\n",
      "47\n"
     ]
    }
   ],
   "source": [
    "for number in range(1, 51):# tenemos que preguntar pq lo hemos buscado y no tengo mucha idea\n",
    "    if number > 1:\n",
    "        i = True\n",
    "        for i in range(2, int(number**0.5)+1):\n",
    "            if number % i == 0:\n",
    "                i = False\n",
    "                break\n",
    "        if i:\n",
    "            print(number)"
   ]
  },
  {
   "cell_type": "markdown",
   "metadata": {},
   "source": [
    "Ej7\n",
    "Calcular el factorial de un número utilizando un bucle for\n",
    "Descripción: Dado un número entero positivo, calcula su factorial utilizando un bucle for."
   ]
  },
  {
   "cell_type": "code",
   "execution_count": 54,
   "metadata": {},
   "outputs": [
    {
     "name": "stdout",
     "output_type": "stream",
     "text": [
      "El factorial de 7 es : 5040\n"
     ]
    }
   ],
   "source": [
    "factorial = 1 # pongo 1 porque es el starting point \n",
    "#si pusiera 2 me multiplica por 2 el resultado y deja de ser factorial\n",
    "for num_factorial in range(1, 8): # ponemos hasta 8 porque éste no se incluye.\n",
    "    factorial *= num_factorial\n",
    "print(\"El factorial de 7 es :\", factorial)"
   ]
  },
  {
   "cell_type": "markdown",
   "metadata": {},
   "source": [
    "Ej8\n",
    "Juego de adivinar palabras utilizando un bucle for\n",
    "Descripción: Crea un juego en el que el jugador debe adivinar una palabra secreta. El jugador tiene un número limitado de intentos y se le proporcionan pistas después de cada intento. Utiliza un bucle for para controlar los intentos del jugador."
   ]
  },
  {
   "cell_type": "code",
   "execution_count": 62,
   "metadata": {},
   "outputs": [
    {
     "name": "stdout",
     "output_type": "stream",
     "text": [
      "Bienvenido al juego Adivina-Adivinanza!\n",
      "Tienes un total de 3  intentos para adivinar la palabra secreta\n",
      "Felicidades! Lo has adivinado!\n"
     ]
    }
   ],
   "source": [
    "palabra_secreta = \"ADALAB\"\n",
    "intentos = 3\n",
    "print(\"Bienvenido al juego Adivina-Adivinanza!\")\n",
    "print(f\"Tienes un total de {intentos}  intentos para adivinar la palabra secreta\")\n",
    "\n",
    "for intentos in range(intentos, 0, -1): # es en orden decreciente porque intentos es start, \n",
    "    #es decir, desde donde empieza por lo tanto desde 3 que son los intentos y el 0 es el stop esto es hasta 0 puntos \n",
    "    # y el step es en cecremento, es decir voy restanto intentos.\n",
    "    adivina = input(\"Adivina la palabra secreta: \").upper()\n",
    "    \n",
    "    if adivina == palabra_secreta:\n",
    "        print(\"Felicidades! Lo has adivinado!\")\n",
    "        break # ponemos un break para no tener problemas y se cree un loop infinito\n",
    "    else:\n",
    "        print(\"Lástima! Intentalo de nuevo.\", intentos - 1, \"son los intentos que tienes.\")\n",
    "else:\n",
    "    print(\"Out of attempts. The secret word was:\", palabra_secreta)"
   ]
  },
  {
   "cell_type": "markdown",
   "metadata": {},
   "source": [
    "LIST COMPREHENSION"
   ]
  },
  {
   "cell_type": "markdown",
   "metadata": {},
   "source": [
    "Ej1\n",
    "Generar una lista de los números pares del 1 al 20.\n",
    "Descripción: Utiliza list comprehension para generar una lista que contenga todos los números pares en el rango del 1 al 20."
   ]
  },
  {
   "cell_type": "code",
   "execution_count": 69,
   "metadata": {},
   "outputs": [
    {
     "name": "stdout",
     "output_type": "stream",
     "text": [
      "[2, 4, 6, 8, 10, 12, 14, 16, 18, 20]\n"
     ]
    }
   ],
   "source": [
    "numeros_pares2 = [x for x in range(1, 21) if x % 2 == 0]\n",
    "print(numeros_pares2)"
   ]
  },
  {
   "cell_type": "markdown",
   "metadata": {},
   "source": [
    "Ej2\n",
    "Obtener una lista de las vocales en una cadena de texto.\n",
    "Descripción: Utiliza list comprehension para crear una lista que contenga todas las vocales presentes en una cadena de texto (sin repetición)."
   ]
  },
  {
   "cell_type": "code",
   "execution_count": 77,
   "metadata": {},
   "outputs": [
    {
     "name": "stdout",
     "output_type": "stream",
     "text": [
      "['u', 'e', 'o', 'a', 'a', 'a', 'e']\n"
     ]
    }
   ],
   "source": [
    "frase = \"Buenos días Adalabers!\"\n",
    "vocales = [char for char in frase if char.lower() in 'aeiou']  #ponemos lower o upper para que se cumpla la condición indictintamente de si\n",
    "#las vocales son mayúsculas o no.\n",
    "print(vocales)"
   ]
  },
  {
   "cell_type": "markdown",
   "metadata": {},
   "source": [
    "Ej3\n",
    "Filtrar los números positivos de una lista y calcular su cuadrado.\n",
    "Descripción: Utiliza list comprehension para filtrar los números positivos de una lista y calcular el cuadrado de cada uno."
   ]
  },
  {
   "cell_type": "code",
   "execution_count": 96,
   "metadata": {},
   "outputs": [
    {
     "name": "stdout",
     "output_type": "stream",
     "text": [
      "los numeros de una lista son (2, 3, 4, -3, -5, -6) y sus cuadrados de sus positivos son [4, 9, 16]\n"
     ]
    }
   ],
   "source": [
    "lista_num2=(2,3,4,-3,-5,-6)\n",
    "positivos_cuadrado = [x ** 2 for x in lista_num2 if x > 0]\n",
    "print(f\"los numeros de una lista son {lista_num2} y sus cuadrados de sus positivos son {positivos_cuadrado}\")"
   ]
  },
  {
   "cell_type": "markdown",
   "metadata": {},
   "source": [
    "TRY....EXCEPT"
   ]
  },
  {
   "cell_type": "markdown",
   "metadata": {},
   "source": [
    "Ej1\n",
    "Realizar una búsqueda en una lista y capturar una excepción en caso de valor no encontrado.\n",
    "Descripción: Solicita al usuario una lista de nombres y un nombre para buscar en la lista. Intenta encontrar el nombre en la lista y utiliza las sentencias try y except para capturar la excepción en caso de que el nombre no sea encontrado."
   ]
  },
  {
   "cell_type": "code",
   "execution_count": null,
   "metadata": {},
   "outputs": [],
   "source": []
  }
 ],
 "metadata": {
  "kernelspec": {
   "display_name": "Python 3",
   "language": "python",
   "name": "python3"
  },
  "language_info": {
   "codemirror_mode": {
    "name": "ipython",
    "version": 3
   },
   "file_extension": ".py",
   "mimetype": "text/x-python",
   "name": "python",
   "nbconvert_exporter": "python",
   "pygments_lexer": "ipython3",
   "version": "3.9.7"
  }
 },
 "nbformat": 4,
 "nbformat_minor": 2
}
