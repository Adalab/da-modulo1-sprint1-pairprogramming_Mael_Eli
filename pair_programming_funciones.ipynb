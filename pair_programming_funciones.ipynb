{
 "cells": [
  {
   "cell_type": "markdown",
   "metadata": {},
   "source": [
    "Calcular el área de un círculo.\n",
    "Descripción: Crea una función llamada calcular_area_circulo que tome el radio como parámetro y devuelva el área del círculo."
   ]
  },
  {
   "cell_type": "code",
   "execution_count": null,
   "metadata": {},
   "outputs": [],
   "source": [
    "import math\n",
    "\n",
    "def calcular_area_circulo(radio):\n",
    "    \n",
    "    if radio < 0:\n",
    "        raise ValueError(\"El radio no puede ser negativo.\")\n",
    "    return 3.1416 * radio * radio\n",
    "\n",
    "\n",
    "calcular_area_circulo(6)"
   ]
  },
  {
   "cell_type": "code",
   "execution_count": null,
   "metadata": {},
   "outputs": [],
   "source": [
    "def calcular_area_del_circulo(radio):\n",
    "    area = math.pi * radio ** 2\n",
    "    return area\n",
    "\n",
    "calcular_area_circulo(6)"
   ]
  },
  {
   "cell_type": "markdown",
   "metadata": {},
   "source": [
    "Contar la cantidad de caracteres en una cadena.\n",
    "Descripción: Crea una función llamada contar_caracteres que tome una cadena como parámetro y devuelva la cantidad de caracteres que contiene.\n"
   ]
  },
  {
   "cell_type": "code",
   "execution_count": null,
   "metadata": {},
   "outputs": [],
   "source": [
    "\n",
    "\n",
    "def numero_caracteres(cadena_texto):\n",
    "    contar_caracteres = len(cadena_texto)\n",
    "\n",
    "    return contar_caracteres\n",
    "\n",
    "cadena_texto = \"Buenos dias adalabers\"\n",
    "numero_caracteres(cadena_texto)\n"
   ]
  },
  {
   "cell_type": "markdown",
   "metadata": {},
   "source": [
    "Determinar si una cadena es un palíndromo.\n",
    "Descripción: Crea una función llamada es_palindromo que tome una cadena como parámetro y devuelva True si es un palíndromo, o False si no lo es."
   ]
  },
  {
   "cell_type": "code",
   "execution_count": null,
   "metadata": {},
   "outputs": [],
   "source": [
    "texto_palindromo = \"a mi loca colima\"\n",
    "\n",
    "def es_palindromo(texto_palindromo):\n",
    "    \n",
    "    texto_palindromo = texto_palindromo.replace(' ', '').lower()\n",
    "    \n",
    "    if texto_palindromo == texto_palindromo[::-1]:\n",
    "        \n",
    "        return True\n",
    "    else:\n",
    "        return False\n",
    "    \n",
    "\n",
    "    \n",
    "es_palindromo(texto_palindromo)"
   ]
  },
  {
   "cell_type": "markdown",
   "metadata": {},
   "source": [
    "Calcular el promedio de una lista de números.\n",
    "Descripción: Crea una función llamada calcular_promedio que tome una lista de números como parámetro y devuelva el promedio de todos sus elementos."
   ]
  },
  {
   "cell_type": "code",
   "execution_count": null,
   "metadata": {},
   "outputs": [],
   "source": [
    "lista_numeros =[3, 6, 7, 11, 4, 16, 23]\n",
    "#resultado = sum(lista_numeros)/len(lista_numeros)\n",
    "#print(resultado)\n",
    "\n",
    "def calcular_promedio(lista_numeros):\n",
    "    resultado = sum(lista_numeros)/len(lista_numeros)\n",
    "\n",
    "    return(resultado)\n",
    "\n",
    "\n",
    "calcular_promedio(lista_numeros)\n"
   ]
  },
  {
   "cell_type": "markdown",
   "metadata": {},
   "source": [
    "Ej 5.Calcular el interés compuesto.\n",
    "Descripción: Crea una función llamada calcular_interes_compuesto que tome el capital inicial, la tasa de interés y el número de períodos como parámetros y devuelva el beneficio final después del interés compuesto."
   ]
  },
  {
   "cell_type": "code",
   "execution_count": 10,
   "metadata": {},
   "outputs": [
    {
     "data": {
      "text/plain": [
       "2593.74"
      ]
     },
     "execution_count": 10,
     "metadata": {},
     "output_type": "execute_result"
    }
   ],
   "source": [
    "#Capital final = C0 x (1+Ti) ^t\n",
    "#Capital inicial, que llamaremos C0\n",
    "#La tasa de interés anual, que llamaremos Ti\n",
    "#El periodo de tiempo que dura la inversión (^t)\n",
    "\n",
    "def calcular_interes_compuest(capital_inicial,ti,periodo_tiempo):\n",
    "     capital_final=capital_inicial*(1+ ti/100)**periodo_tiempo\n",
    "     capital_final=round(capital_final,2)\n",
    "     return(capital_final)\n",
    "       \n",
    "calcular_interes_compuest(1000,10,10)"
   ]
  },
  {
   "cell_type": "markdown",
   "metadata": {},
   "source": [
    "Ej 6 Validar si una palabra es un anagrama de otra.\n",
    "Descripción: Crea una función llamada es_anagrama que tome dos palabras como parámetros y \n",
    "devuelva True si una es un anagrama de la otra, o False si no lo es.\n",
    "Anagrama : Cambio en el orden de las letras de una palabra o frase que da lugar a otra palabra o frase distinta"
   ]
  },
  {
   "cell_type": "code",
   "execution_count": 93,
   "metadata": {},
   "outputs": [
    {
     "name": "stdout",
     "output_type": "stream",
     "text": [
      "amor\n"
     ]
    }
   ],
   "source": [
    "def es_anagrama(palabra):\n",
    "    palabra_invertida= ''.join(reversed(palabra))\n",
    "    print(palabra_invertida)\n",
    "    \n",
    "es_anagrama(\"roma\")\n",
    "\n",
    "#preguntar   ????"
   ]
  },
  {
   "cell_type": "markdown",
   "metadata": {},
   "source": [
    "Ej 7 Validar si una cadena de texto es un isograma.\n",
    "Descripción: Crea una función llamada es_isograma que tome una cadena de texto como parámetro y devuelva True si es un isograma. En caso contrario, devuelve False."
   ]
  },
  {
   "cell_type": "code",
   "execution_count": null,
   "metadata": {},
   "outputs": [],
   "source": []
  },
  {
   "cell_type": "markdown",
   "metadata": {},
   "source": [
    "Ej 8 Concatenar múltiples cadenas de texto\n",
    "Descripción: Crea una función llamada concatenar_cadenas que tome una cantidad variable de cadenas de texto como argumentos y devuelva una única cadena que contenga la concatenación de todas las cadenas ingresadas."
   ]
  },
  {
   "cell_type": "code",
   "execution_count": 92,
   "metadata": {},
   "outputs": [
    {
     "name": "stdout",
     "output_type": "stream",
     "text": [
      "Buenas noches Adalabers!\n"
     ]
    }
   ],
   "source": [
    "def concatenar_cadenas(*cadenas):\n",
    "    resultado = \"\"\n",
    "\n",
    "    for cadena in cadenas:\n",
    "        resultado += cadena\n",
    "\n",
    "    return resultado\n",
    "\n",
    "\n",
    "cadena1 = \"Buenas \"\n",
    "cadena2 = \"noches \"\n",
    "cadena3 = \"Adalabers!\"\n",
    "\n",
    "resultado = concatenar_cadenas(cadena1, cadena2, cadena3)\n",
    "print(resultado)\n"
   ]
  },
  {
   "cell_type": "markdown",
   "metadata": {},
   "source": [
    "Ej 9.Crear un diccionario con información de una persona.\n",
    "Descripción: Crea una función llamada crear_persona que tome como argumentos clave-valor los datos de una persona, como nombre, edad, ciudad, etc., y devuelva un diccionario con toda la información ingresada."
   ]
  },
  {
   "cell_type": "code",
   "execution_count": 95,
   "metadata": {},
   "outputs": [
    {
     "name": "stdout",
     "output_type": "stream",
     "text": [
      "{'nombre': 'eli', 'edad': 39, 'ciudad': 'Barcelona', 'profesion': 'Economista'}\n"
     ]
    }
   ],
   "source": [
    "def crear_persona(**datos):\n",
    "    # Crea un diccionario para almacenar la información de la persona\n",
    "    persona = {}\n",
    "    \n",
    "    # Agrega los datos clave-valor al diccionario\n",
    "    for clave, valor in datos.items():\n",
    "        persona[clave] = valor\n",
    "\n",
    "    return persona\n",
    "\n",
    "\n",
    "persona = crear_persona(nombre=\"eli\", edad=39, ciudad=\"Barcelona\", profesion=\"Economista\")\n",
    "print(persona)\n"
   ]
  },
  {
   "cell_type": "markdown",
   "metadata": {},
   "source": [
    "Ej 10 Encontrar el número que falta en una lista ordenada de números consecutivos.\n",
    "Descripción: Crea una función llamada encontrar_numero_faltante que tome una lista de números consecutivos (del 1 al N, sin repetir) con un número faltante y devuelva ese número faltante."
   ]
  },
  {
   "cell_type": "code",
   "execution_count": 100,
   "metadata": {},
   "outputs": [
    {
     "name": "stdout",
     "output_type": "stream",
     "text": [
      "El número faltante es: 3\n"
     ]
    }
   ],
   "source": [
    "def encontrar_numero_faltante(lista):\n",
    "    n = len(lista) + 1 # se pone el +1 porque en la lista habrá un número faltante por lo que la lista no es 1 al N sino del 1 al N+1\n",
    "    suma_esperada = n * (n + 1) // 2 #es una formula general para calcular la suma esperada\n",
    "    suma_real = sum(lista)\n",
    "    numero_faltante = suma_esperada - suma_real\n",
    "    return numero_faltante\n",
    "\n",
    "\n",
    "lista_numeros = [1, 2, 4, 5] \n",
    "numero_faltante = encontrar_numero_faltante(lista_numeros)\n",
    "print(\"El número faltante es:\", numero_faltante)\n"
   ]
  },
  {
   "cell_type": "markdown",
   "metadata": {},
   "source": [
    "Ej 11 Encontrar el elemento duplicado en una lista de números.\n",
    "Descripción: Crea una función llamada encontrar_duplicado que tome una lista de números enteros y devuelva el elemento que está duplicado en la lista."
   ]
  },
  {
   "cell_type": "code",
   "execution_count": 125,
   "metadata": {},
   "outputs": [
    {
     "name": "stdout",
     "output_type": "stream",
     "text": [
      "El número duplicado es: 3\n"
     ]
    }
   ],
   "source": [
    "def encontrar_duplicado(lista):\n",
    "    numeros_vistos = set()#un set creado para ir almacenando los números que se han visto\n",
    "\n",
    "    for numero in lista:\n",
    "        if numero in numeros_vistos:\n",
    "            return numero\n",
    "        else:\n",
    "            numeros_vistos.add(numero)\n",
    "\n",
    "    return None\n",
    "\n",
    "\n",
    "lista_numeros = [1, 2, 3, 3, 4, 5]\n",
    "duplicado = encontrar_duplicado(lista_numeros)\n",
    "\n",
    "if duplicado is not None:\n",
    "    print(\"El número duplicado es:\", duplicado)\n",
    "else:\n",
    "    print(\"No se encontraron números duplicados.\")\n",
    "\n",
    "\n",
    "\n"
   ]
  }
 ],
 "metadata": {
  "kernelspec": {
   "display_name": "base",
   "language": "python",
   "name": "python3"
  },
  "language_info": {
   "codemirror_mode": {
    "name": "ipython",
    "version": 3
   },
   "file_extension": ".py",
   "mimetype": "text/x-python",
   "name": "python",
   "nbconvert_exporter": "python",
   "pygments_lexer": "ipython3",
   "version": "3.9.7"
  }
 },
 "nbformat": 4,
 "nbformat_minor": 2
}
