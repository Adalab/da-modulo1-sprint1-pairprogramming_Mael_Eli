{
 "cells": [
  {
   "cell_type": "markdown",
   "metadata": {},
   "source": [
    "Ej1\n",
    "Validar un número de teléfono.\n",
    "Descripción: Verificar si una cadena representa un número de teléfono válido en el formato (XXX) XXX-XXXX.\n",
    "Probad para cada uno de los teléfonos que tenemos en la siguiente lista:\n",
    "telefonos = [\"(123) 456-7890\", \"178 1890-733\", \"(555) 238-1987\", \"(123) 4560-7890\", \"(ABC) 098-1111\"]"
   ]
  },
  {
   "cell_type": "code",
   "execution_count": 2,
   "metadata": {},
   "outputs": [
    {
     "ename": "IndentationError",
     "evalue": "expected an indented block after 'else' statement on line 8 (3438342564.py, line 9)",
     "output_type": "error",
     "traceback": [
      "\u001b[1;36m  Cell \u001b[1;32mIn[2], line 9\u001b[1;36m\u001b[0m\n\u001b[1;33m    print(f\"{telefono}NO es un numero de teléfono válido\")\u001b[0m\n\u001b[1;37m    ^\u001b[0m\n\u001b[1;31mIndentationError\u001b[0m\u001b[1;31m:\u001b[0m expected an indented block after 'else' statement on line 8\n"
     ]
    }
   ],
   "source": [
    "import re\n",
    "telefonos = [\"(123) 456-7890\", \"178 1890-733\", \"(555) 238-1987\", \"(123) 4560-7890\", \"(ABC) 098-1111\"]\n",
    "patron1 = \"\\(\\d{3}\\) \\d{3}-\\d{4}\" #\\d para darle el formato\n",
    "#tb podemos poner la r delante de la definición de patron1 como alguno de los ejemplos en clase pero en este caso no necesitamos pq estamos trabajando en el mismo entorno¿?\n",
    "for telefono in telefonos:\n",
    "    if re.match(patron1,telefono):\n",
    "        print(f\"{telefono} es un teléfono válido\")\n",
    "    else:\n",
    "    print(f\"{telefono}NO es un numero de teléfono válido\")"
   ]
  },
  {
   "cell_type": "markdown",
   "metadata": {},
   "source": [
    "Ej2\n",
    "Buscar todas las direcciones de correo electrónico en un texto.\n",
    "Descripción: Encontrar todas las direcciones de correo electrónico presentes en una cadena de texto.\n",
    "Probad con el siguiente string:"
   ]
  },
  {
   "cell_type": "code",
   "execution_count": 46,
   "metadata": {},
   "outputs": [
    {
     "name": "stdout",
     "output_type": "stream",
     "text": [
      "user@example.com.\n",
      "john.doe@email.com\n"
     ]
    }
   ],
   "source": [
    "texto = \"Mi correo es user@example.com. Contacta conmigo en john.doe@email.com\"\n",
    "patron2=\"\\S+@\\S+\" #este patrón significa que estamos buscando una @ entre cualquier caracter que sea al menos otro carácter que no sea espacio en blanco.\n",
    "correo_electronico=re.findall(patron2,texto)\n",
    "\n",
    "for correo in correo_electronico:\n",
    "    print(correo)\n"
   ]
  },
  {
   "cell_type": "markdown",
   "metadata": {},
   "source": [
    "Ej3 \n",
    "Validar un código postal.\n",
    "Descripción: Verificar si una cadena representa un código postal válido de 5 dígitos.\n",
    "Probad para cada uno de los códigos postales que tenemos en la siguiente lista:"
   ]
  },
  {
   "cell_type": "code",
   "execution_count": 75,
   "metadata": {},
   "outputs": [
    {
     "name": "stdout",
     "output_type": "stream",
     "text": [
      "12345 es un código postal válido.\n",
      "190037 NO es un código postal válido.\n",
      "78409 es un código postal válido.\n",
      "986449 NO es un código postal válido.\n",
      "19305 es un código postal válido.\n"
     ]
    }
   ],
   "source": [
    "import re\n",
    "\n",
    "codigos_postales = [\"12345\", \"190037\", \"78409\", \"986449\", \"19305\"]\n",
    "\n",
    "patron3 = '^\\d{5}$'\n",
    "\n",
    "for codigo in codigos_postales:\n",
    "    if re.match(patron3, codigo):\n",
    "        print(f\"{codigo} es un código postal válido.\")\n",
    "    else:\n",
    "        print(f\"{codigo} NO es un código postal válido.\")\n"
   ]
  },
  {
   "cell_type": "markdown",
   "metadata": {},
   "source": [
    "Ej4\n",
    "Encontrar todas las palabras que comienzan con una vocal en un texto.\n",
    "Descripción: Encontrar todas las palabras en un texto que comienzan con una vocal (a, e, i, o, u).\n",
    "Probad con el siguiente string:"
   ]
  },
  {
   "cell_type": "code",
   "execution_count": 102,
   "metadata": {},
   "outputs": [
    {
     "name": "stdout",
     "output_type": "stream",
     "text": [
      "palabras que empiezan con vocal['El', 'está', 'Ana', 'una', 'es']\n"
     ]
    }
   ],
   "source": [
    "texto = \"El perro está ladrando. Ana tiene una manzana. La casa es grande.\"\n",
    "patron4=r\"\\b[aeiouAEIOU]\\w*\\b\" # la \\b indica el inicio y el fin d ela cadena(word boundary_cheatsheet).\n",
    "                              #Lo que está entre [] es aquello que queremos que coincida exactamente, todas las vocales en min y mayús.\n",
    "                              # la w busca cualquier caracter de tipo alfabético, en este caso las vocales añadidas en el patrón precedente.\n",
    "                              # el * significa que cualquier caracter alfabético que siga a la vocal\n",
    "\n",
    "for palabra in texto:\n",
    "    palabras_con_vocal = re.findall(patron4, texto)\n",
    "print(f\"palabras que empiezan con vocal{palabras_con_vocal}\")\n",
    "                             "
   ]
  },
  {
   "cell_type": "markdown",
   "metadata": {},
   "source": [
    "Ej5.\n",
    "Extraer todos los hashtags de un texto.\n",
    "Descripción: Extraer todos los hashtags (#) presentes en una cadena de texto.\n",
    "Probad con el siguiente string:"
   ]
  },
  {
   "cell_type": "code",
   "execution_count": 108,
   "metadata": {},
   "outputs": [
    {
     "name": "stdout",
     "output_type": "stream",
     "text": [
      "Me encanta el deporte. FelizViernes a todos. Estoy en la conferencia Tech2022.\n"
     ]
    }
   ],
   "source": [
    "texto = \"Me encanta el #deporte. #FelizViernes a todos. Estoy en la conferencia #Tech2022.\"\n",
    "patron5=\"\\s#\"\n",
    "texto_sin=re.sub(patron5,\" \",texto)\n",
    "print(texto_sin)"
   ]
  },
  {
   "cell_type": "markdown",
   "metadata": {},
   "source": [
    "Ej6.\n",
    "Buscar todos los números decimales en una cadena de texto.\n",
    "Descripción: Encontrar todos los números decimales presentes en una cadena de texto.\n",
    "Probad con el siguiente string:"
   ]
  },
  {
   "cell_type": "code",
   "execution_count": 122,
   "metadata": {},
   "outputs": [
    {
     "name": "stdout",
     "output_type": "stream",
     "text": [
      "los decimales presentes en el texto son ['19.99', '25.5°', ' 2.5%']\n"
     ]
    }
   ],
   "source": [
    "texto = \"El precio es $19.99. La temperatura es 25.5°C. El índice de inflación es del 2.5%.\"     \n",
    "patron6=\".\\d.\\d.\"\n",
    "decimales_presentes=re.findall(patron6,texto)\n",
    "print(f\"los decimales presentes en el texto son {decimales_presentes}\")\n"
   ]
  },
  {
   "cell_type": "markdown",
   "metadata": {},
   "source": [
    "Ej7.\n",
    "Validar un nombre de usuario.\n",
    "Descripción: Verificar si una cadena representa un nombre de usuario válido, que contiene solo letras minúsculas, números y guiones bajos (_).\n",
    "Probad con la siguiente lista de usuarios:"
   ]
  },
  {
   "cell_type": "code",
   "execution_count": 143,
   "metadata": {},
   "outputs": [
    {
     "name": "stdout",
     "output_type": "stream",
     "text": [
      "el usuario:  juan_doe123 es válido\n",
      "el usuario:  lola_12 es válido\n",
      "el usuario Aurora_23 no es válido\n",
      "el usuario:  12marta_lopez es válido\n"
     ]
    }
   ],
   "source": [
    "lista_usuarios = [\"juan_doe123\", \"lola_12\", \"Aurora_23\", \"12marta_lopez\"]\n",
    "patron7='[0-9a-z_]'\n",
    "\n",
    "for usuarios in lista_usuarios:\n",
    "    if re.match(patron7,usuarios):\n",
    "        print(f\"el usuario:  {usuarios} es válido\")\n",
    "    else:\n",
    "        print(f\"el usuario {usuarios} no es válido\")\n",
    "    \n",
    "        "
   ]
  },
  {
   "cell_type": "markdown",
   "metadata": {},
   "source": [
    "Ej8.\n",
    "Encontrar todas las fechas en formato \"dd/mm/aaaa\" en un texto.\n",
    "Descripción: Encontrar todas las fechas válidas en formato \"dd/mm/aaaa\" presentes en una cadena de texto.\n",
    "Probad con el siguiente string:"
   ]
  },
  {
   "cell_type": "code",
   "execution_count": 147,
   "metadata": {},
   "outputs": [
    {
     "name": "stdout",
     "output_type": "stream",
     "text": [
      "las fechas válidas con el formato dd/mm/aaaa son:['31/12/2022', '01/01/2023', '15/05/1990']\n"
     ]
    }
   ],
   "source": [
    "texto = \"La fecha límite es el 31/12/2022. Hoy es 01/01/2023. Cumpleaños: 15/05/1990.\"\n",
    "fechas_validas=re.findall(r\"\\d{2}/\\d{2}/\\d{4}\",texto)\n",
    "print(f\"las fechas válidas con el formato dd/mm/aaaa son:{fechas_validas}\")"
   ]
  },
  {
   "cell_type": "markdown",
   "metadata": {},
   "source": [
    "Ej 9.\n",
    "Remover caracteres especiales.\n",
    "Descripción: Dada una cadena de texto, remover cualquier carácter especial, como signos de puntuación y símbolos.\n",
    "Probad con el siguiente string:"
   ]
  },
  {
   "cell_type": "code",
   "execution_count": 159,
   "metadata": {},
   "outputs": [
    {
     "name": "stdout",
     "output_type": "stream",
     "text": [
      "el resultado de sacar carácteres especiales y signos de puntuación es:  Hola  cómo estás   Todo bien \n"
     ]
    }
   ],
   "source": [
    "texto = '¡Hola, cómo estás? ¿Todo bien?'\n",
    "texto_sin_especiales= re.sub(\"[^\\w\\s]\",\" \",texto) # ^ dentro de un [] es signo de negación, es decir, significa que vamos a sustituir todo aquello que no coincida \n",
    "                                                    #con letras y números \\w ni espacios en blanco \\s. Todo aquello que no coincida con ese patrón lo sustituimos por \" \".\n",
    "print(f\"el resultado de sacar carácteres especiales y signos de puntuación es: {texto_sin_especiales}\")"
   ]
  },
  {
   "cell_type": "markdown",
   "metadata": {},
   "source": [
    "Ej 10.\n",
    "BONUS: Enmascarar información personal.\n",
    "Descripción: Dada una cadena de texto que contiene información personal, como nombres y direcciones, enmascarar esta información reemplazándola con asteriscos (*).\n",
    "Probad con este string:"
   ]
  },
  {
   "cell_type": "code",
   "execution_count": 168,
   "metadata": {},
   "outputs": [
    {
     "name": "stdout",
     "output_type": "stream",
     "text": [
      "Texto enmascarado:\n"
     ]
    }
   ],
   "source": [
    "texto = 'El nombre del cliente es John Doe y su dirección es 123 Main Street.'\n",
    "\n",
    "# Definimos patrones para encontrar el nombre y la dirección\n",
    "patron_nombre =\n",
    "patron_direccion =\n",
    "\n",
    "# Enmascaramos el nombre y la dirección con asteriscos\n",
    "#texto_enmascarado = re.sub(patron_nombre, \"*\", texto)\n",
    "#texto_enmascarado = re.sub(patron_direccion,\"*\", texto_enmascarado)\n",
    "\n",
    "print(\"Texto enmascarado:\")\n"
   ]
  }
 ],
 "metadata": {
  "kernelspec": {
   "display_name": "base",
   "language": "python",
   "name": "python3"
  },
  "language_info": {
   "codemirror_mode": {
    "name": "ipython",
    "version": 3
   },
   "file_extension": ".py",
   "mimetype": "text/x-python",
   "name": "python",
   "nbconvert_exporter": "python",
   "pygments_lexer": "ipython3",
   "version": "3.11.6"
  }
 },
 "nbformat": 4,
 "nbformat_minor": 2
}
